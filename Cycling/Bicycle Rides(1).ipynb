{
 "cells": [
  {
   "cell_type": "markdown",
   "id": "9ec19b0f",
   "metadata": {},
   "source": [
    "<h2>Import Required Libraries</h2>"
   ]
  },
  {
   "cell_type": "code",
   "execution_count": 1,
   "id": "0caa7542",
   "metadata": {},
   "outputs": [],
   "source": [
    "import pandas as pd\n",
    "import seaborn as sns\n",
    "import numpy as np\n",
    "import matplotlib.pyplot as plt\n",
    "%matplotlib inline\n",
    "\n",
    "import datetime as datetime\n",
    "from datetime import timedelta\n",
    "\n",
    "from pandas_profiling import ProfileReport"
   ]
  },
  {
   "cell_type": "markdown",
   "id": "7ee36012",
   "metadata": {},
   "source": [
    "<h2>Import Data into df</h2>"
   ]
  },
  {
   "cell_type": "code",
   "execution_count": 2,
   "id": "427a51f5",
   "metadata": {},
   "outputs": [],
   "source": [
    "rdata = pd.read_csv('ridedata.csv')"
   ]
  },
  {
   "cell_type": "code",
   "execution_count": 3,
   "id": "ae586fb2",
   "metadata": {},
   "outputs": [
    {
     "data": {
      "text/html": [
       "<div>\n",
       "<style scoped>\n",
       "    .dataframe tbody tr th:only-of-type {\n",
       "        vertical-align: middle;\n",
       "    }\n",
       "\n",
       "    .dataframe tbody tr th {\n",
       "        vertical-align: top;\n",
       "    }\n",
       "\n",
       "    .dataframe thead th {\n",
       "        text-align: right;\n",
       "    }\n",
       "</style>\n",
       "<table border=\"1\" class=\"dataframe\">\n",
       "  <thead>\n",
       "    <tr style=\"text-align: right;\">\n",
       "      <th></th>\n",
       "      <th>ride_id</th>\n",
       "      <th>rideable_type</th>\n",
       "      <th>started_at</th>\n",
       "      <th>ended_at</th>\n",
       "      <th>start_station_name</th>\n",
       "      <th>start_station_id</th>\n",
       "      <th>end_station_name</th>\n",
       "      <th>end_station_id</th>\n",
       "      <th>start_lat</th>\n",
       "      <th>start_lng</th>\n",
       "      <th>end_lat</th>\n",
       "      <th>end_lng</th>\n",
       "      <th>member_casual</th>\n",
       "    </tr>\n",
       "  </thead>\n",
       "  <tbody>\n",
       "    <tr>\n",
       "      <th>0</th>\n",
       "      <td>BCC66FC6FAB27CC7</td>\n",
       "      <td>electric_bike</td>\n",
       "      <td>2022-11-10 06:21:55</td>\n",
       "      <td>2022-11-10 06:31:27</td>\n",
       "      <td>Canal St &amp; Adams St</td>\n",
       "      <td>13011</td>\n",
       "      <td>St. Clair St &amp; Erie St</td>\n",
       "      <td>13016</td>\n",
       "      <td>41.879401</td>\n",
       "      <td>-87.639848</td>\n",
       "      <td>41.894345</td>\n",
       "      <td>-87.622798</td>\n",
       "      <td>member</td>\n",
       "    </tr>\n",
       "    <tr>\n",
       "      <th>1</th>\n",
       "      <td>772AB67E902C180F</td>\n",
       "      <td>classic_bike</td>\n",
       "      <td>2022-11-04 07:31:55</td>\n",
       "      <td>2022-11-04 07:46:25</td>\n",
       "      <td>Canal St &amp; Adams St</td>\n",
       "      <td>13011</td>\n",
       "      <td>St. Clair St &amp; Erie St</td>\n",
       "      <td>13016</td>\n",
       "      <td>41.879255</td>\n",
       "      <td>-87.639904</td>\n",
       "      <td>41.894345</td>\n",
       "      <td>-87.622798</td>\n",
       "      <td>member</td>\n",
       "    </tr>\n",
       "    <tr>\n",
       "      <th>2</th>\n",
       "      <td>585EAD07FDEC0152</td>\n",
       "      <td>classic_bike</td>\n",
       "      <td>2022-11-21 17:20:29</td>\n",
       "      <td>2022-11-21 17:34:36</td>\n",
       "      <td>Indiana Ave &amp; Roosevelt Rd</td>\n",
       "      <td>SL-005</td>\n",
       "      <td>St. Clair St &amp; Erie St</td>\n",
       "      <td>13016</td>\n",
       "      <td>41.867888</td>\n",
       "      <td>-87.623041</td>\n",
       "      <td>41.894345</td>\n",
       "      <td>-87.622798</td>\n",
       "      <td>member</td>\n",
       "    </tr>\n",
       "    <tr>\n",
       "      <th>3</th>\n",
       "      <td>91C4E7ED3C262FF9</td>\n",
       "      <td>classic_bike</td>\n",
       "      <td>2022-11-25 17:29:34</td>\n",
       "      <td>2022-11-25 17:45:15</td>\n",
       "      <td>Indiana Ave &amp; Roosevelt Rd</td>\n",
       "      <td>SL-005</td>\n",
       "      <td>St. Clair St &amp; Erie St</td>\n",
       "      <td>13016</td>\n",
       "      <td>41.867888</td>\n",
       "      <td>-87.623041</td>\n",
       "      <td>41.894345</td>\n",
       "      <td>-87.622798</td>\n",
       "      <td>member</td>\n",
       "    </tr>\n",
       "    <tr>\n",
       "      <th>4</th>\n",
       "      <td>709206A3104CABC8</td>\n",
       "      <td>classic_bike</td>\n",
       "      <td>2022-11-29 17:24:25</td>\n",
       "      <td>2022-11-29 17:42:51</td>\n",
       "      <td>Indiana Ave &amp; Roosevelt Rd</td>\n",
       "      <td>SL-005</td>\n",
       "      <td>St. Clair St &amp; Erie St</td>\n",
       "      <td>13016</td>\n",
       "      <td>41.867888</td>\n",
       "      <td>-87.623041</td>\n",
       "      <td>41.894345</td>\n",
       "      <td>-87.622798</td>\n",
       "      <td>member</td>\n",
       "    </tr>\n",
       "  </tbody>\n",
       "</table>\n",
       "</div>"
      ],
      "text/plain": [
       "            ride_id  rideable_type           started_at             ended_at  \\\n",
       "0  BCC66FC6FAB27CC7  electric_bike  2022-11-10 06:21:55  2022-11-10 06:31:27   \n",
       "1  772AB67E902C180F   classic_bike  2022-11-04 07:31:55  2022-11-04 07:46:25   \n",
       "2  585EAD07FDEC0152   classic_bike  2022-11-21 17:20:29  2022-11-21 17:34:36   \n",
       "3  91C4E7ED3C262FF9   classic_bike  2022-11-25 17:29:34  2022-11-25 17:45:15   \n",
       "4  709206A3104CABC8   classic_bike  2022-11-29 17:24:25  2022-11-29 17:42:51   \n",
       "\n",
       "           start_station_name start_station_id        end_station_name  \\\n",
       "0         Canal St & Adams St            13011  St. Clair St & Erie St   \n",
       "1         Canal St & Adams St            13011  St. Clair St & Erie St   \n",
       "2  Indiana Ave & Roosevelt Rd           SL-005  St. Clair St & Erie St   \n",
       "3  Indiana Ave & Roosevelt Rd           SL-005  St. Clair St & Erie St   \n",
       "4  Indiana Ave & Roosevelt Rd           SL-005  St. Clair St & Erie St   \n",
       "\n",
       "  end_station_id  start_lat  start_lng    end_lat    end_lng member_casual  \n",
       "0          13016  41.879401 -87.639848  41.894345 -87.622798        member  \n",
       "1          13016  41.879255 -87.639904  41.894345 -87.622798        member  \n",
       "2          13016  41.867888 -87.623041  41.894345 -87.622798        member  \n",
       "3          13016  41.867888 -87.623041  41.894345 -87.622798        member  \n",
       "4          13016  41.867888 -87.623041  41.894345 -87.622798        member  "
      ]
     },
     "execution_count": 3,
     "metadata": {},
     "output_type": "execute_result"
    }
   ],
   "source": [
    "rdata.head()"
   ]
  },
  {
   "cell_type": "code",
   "execution_count": 4,
   "id": "0729f791",
   "metadata": {},
   "outputs": [],
   "source": [
    "profile = ProfileReport(rdata, title=\"Pandas Profiling Report\")"
   ]
  },
  {
   "cell_type": "code",
   "execution_count": 5,
   "id": "2dfcd7fa",
   "metadata": {},
   "outputs": [
    {
     "data": {
      "application/vnd.jupyter.widget-view+json": {
       "model_id": "a541582613404fedbfd75601dff2c9bd",
       "version_major": 2,
       "version_minor": 0
      },
      "text/plain": [
       "Summarize dataset:   0%|          | 0/5 [00:00<?, ?it/s]"
      ]
     },
     "metadata": {},
     "output_type": "display_data"
    },
    {
     "data": {
      "application/vnd.jupyter.widget-view+json": {
       "model_id": "bc8b881012854bf59e7fb840b6161a7e",
       "version_major": 2,
       "version_minor": 0
      },
      "text/plain": [
       "Generate report structure:   0%|          | 0/1 [00:00<?, ?it/s]"
      ]
     },
     "metadata": {},
     "output_type": "display_data"
    },
    {
     "data": {
      "application/vnd.jupyter.widget-view+json": {
       "model_id": "",
       "version_major": 2,
       "version_minor": 0
      },
      "text/plain": [
       "Render widgets:   0%|          | 0/1 [00:00<?, ?it/s]"
      ]
     },
     "metadata": {},
     "output_type": "display_data"
    },
    {
     "data": {
      "application/vnd.jupyter.widget-view+json": {
       "model_id": "b9cd54989c4a4dfea5c25f96b00bc2ef",
       "version_major": 2,
       "version_minor": 0
      },
      "text/plain": [
       "VBox(children=(Tab(children=(Tab(children=(GridBox(children=(VBox(children=(GridspecLayout(children=(HTML(valu…"
      ]
     },
     "metadata": {},
     "output_type": "display_data"
    }
   ],
   "source": [
    "profile.to_widgets()"
   ]
  },
  {
   "cell_type": "code",
   "execution_count": 4,
   "id": "b7f589d3",
   "metadata": {},
   "outputs": [
    {
     "name": "stdout",
     "output_type": "stream",
     "text": [
      "<class 'pandas.core.frame.DataFrame'>\n",
      "RangeIndex: 337735 entries, 0 to 337734\n",
      "Data columns (total 13 columns):\n",
      " #   Column              Non-Null Count   Dtype  \n",
      "---  ------              --------------   -----  \n",
      " 0   ride_id             337735 non-null  object \n",
      " 1   rideable_type       337735 non-null  object \n",
      " 2   started_at          337735 non-null  object \n",
      " 3   ended_at            337735 non-null  object \n",
      " 4   start_station_name  285778 non-null  object \n",
      " 5   start_station_id    285778 non-null  object \n",
      " 6   end_station_name    283476 non-null  object \n",
      " 7   end_station_id      283476 non-null  object \n",
      " 8   start_lat           337735 non-null  float64\n",
      " 9   start_lng           337735 non-null  float64\n",
      " 10  end_lat             337505 non-null  float64\n",
      " 11  end_lng             337505 non-null  float64\n",
      " 12  member_casual       337735 non-null  object \n",
      "dtypes: float64(4), object(9)\n",
      "memory usage: 33.5+ MB\n"
     ]
    }
   ],
   "source": [
    "rdata.info()"
   ]
  },
  {
   "cell_type": "code",
   "execution_count": 4,
   "id": "839da3e6",
   "metadata": {},
   "outputs": [
    {
     "ename": "NameError",
     "evalue": "name 'ProfileReport' is not defined",
     "output_type": "error",
     "traceback": [
      "\u001b[1;31m---------------------------------------------------------------------------\u001b[0m",
      "\u001b[1;31mNameError\u001b[0m                                 Traceback (most recent call last)",
      "Input \u001b[1;32mIn [4]\u001b[0m, in \u001b[0;36m<cell line: 1>\u001b[1;34m()\u001b[0m\n\u001b[1;32m----> 1\u001b[0m profile \u001b[38;5;241m=\u001b[39m \u001b[43mProfileReport\u001b[49m(rdata, title\u001b[38;5;241m=\u001b[39m\u001b[38;5;124m\"\u001b[39m\u001b[38;5;124mPandas Profiling Report\u001b[39m\u001b[38;5;124m\"\u001b[39m)\n\u001b[0;32m      2\u001b[0m profile\u001b[38;5;241m.\u001b[39mto_widgets()\n",
      "\u001b[1;31mNameError\u001b[0m: name 'ProfileReport' is not defined"
     ]
    }
   ],
   "source": [
    "profile = ProfileReport(rdata, title=\"Pandas Profiling Report\")\n",
    "profile.to_widgets()"
   ]
  },
  {
   "cell_type": "code",
   "execution_count": 5,
   "id": "fb6ec82e",
   "metadata": {},
   "outputs": [
    {
     "data": {
      "text/html": [
       "<div>\n",
       "<style scoped>\n",
       "    .dataframe tbody tr th:only-of-type {\n",
       "        vertical-align: middle;\n",
       "    }\n",
       "\n",
       "    .dataframe tbody tr th {\n",
       "        vertical-align: top;\n",
       "    }\n",
       "\n",
       "    .dataframe thead th {\n",
       "        text-align: right;\n",
       "    }\n",
       "</style>\n",
       "<table border=\"1\" class=\"dataframe\">\n",
       "  <thead>\n",
       "    <tr style=\"text-align: right;\">\n",
       "      <th></th>\n",
       "      <th>start_lat</th>\n",
       "      <th>start_lng</th>\n",
       "      <th>end_lat</th>\n",
       "      <th>end_lng</th>\n",
       "    </tr>\n",
       "  </thead>\n",
       "  <tbody>\n",
       "    <tr>\n",
       "      <th>count</th>\n",
       "      <td>337735.000000</td>\n",
       "      <td>337735.000000</td>\n",
       "      <td>337505.000000</td>\n",
       "      <td>337505.000000</td>\n",
       "    </tr>\n",
       "    <tr>\n",
       "      <th>mean</th>\n",
       "      <td>41.899263</td>\n",
       "      <td>-87.648119</td>\n",
       "      <td>41.898558</td>\n",
       "      <td>-87.646246</td>\n",
       "    </tr>\n",
       "    <tr>\n",
       "      <th>std</th>\n",
       "      <td>0.048107</td>\n",
       "      <td>0.028927</td>\n",
       "      <td>0.209618</td>\n",
       "      <td>0.427704</td>\n",
       "    </tr>\n",
       "    <tr>\n",
       "      <th>min</th>\n",
       "      <td>41.648501</td>\n",
       "      <td>-87.840000</td>\n",
       "      <td>0.000000</td>\n",
       "      <td>-87.840000</td>\n",
       "    </tr>\n",
       "    <tr>\n",
       "      <th>25%</th>\n",
       "      <td>41.879206</td>\n",
       "      <td>-87.662383</td>\n",
       "      <td>41.879255</td>\n",
       "      <td>-87.663600</td>\n",
       "    </tr>\n",
       "    <tr>\n",
       "      <th>50%</th>\n",
       "      <td>41.895748</td>\n",
       "      <td>-87.644448</td>\n",
       "      <td>41.895769</td>\n",
       "      <td>-87.645143</td>\n",
       "    </tr>\n",
       "    <tr>\n",
       "      <th>75%</th>\n",
       "      <td>41.929546</td>\n",
       "      <td>-87.630000</td>\n",
       "      <td>41.929567</td>\n",
       "      <td>-87.630000</td>\n",
       "    </tr>\n",
       "    <tr>\n",
       "      <th>max</th>\n",
       "      <td>42.070000</td>\n",
       "      <td>-87.520000</td>\n",
       "      <td>42.080000</td>\n",
       "      <td>0.000000</td>\n",
       "    </tr>\n",
       "  </tbody>\n",
       "</table>\n",
       "</div>"
      ],
      "text/plain": [
       "           start_lat      start_lng        end_lat        end_lng\n",
       "count  337735.000000  337735.000000  337505.000000  337505.000000\n",
       "mean       41.899263     -87.648119      41.898558     -87.646246\n",
       "std         0.048107       0.028927       0.209618       0.427704\n",
       "min        41.648501     -87.840000       0.000000     -87.840000\n",
       "25%        41.879206     -87.662383      41.879255     -87.663600\n",
       "50%        41.895748     -87.644448      41.895769     -87.645143\n",
       "75%        41.929546     -87.630000      41.929567     -87.630000\n",
       "max        42.070000     -87.520000      42.080000       0.000000"
      ]
     },
     "execution_count": 5,
     "metadata": {},
     "output_type": "execute_result"
    }
   ],
   "source": [
    "rdata.describe()"
   ]
  },
  {
   "cell_type": "code",
   "execution_count": 6,
   "id": "46ed8f63",
   "metadata": {},
   "outputs": [
    {
     "data": {
      "text/plain": [
       "ride_id                   0\n",
       "rideable_type             0\n",
       "started_at                0\n",
       "ended_at                  0\n",
       "start_station_name    51957\n",
       "start_station_id      51957\n",
       "end_station_name      54259\n",
       "end_station_id        54259\n",
       "start_lat                 0\n",
       "start_lng                 0\n",
       "end_lat                 230\n",
       "end_lng                 230\n",
       "member_casual             0\n",
       "dtype: int64"
      ]
     },
     "execution_count": 6,
     "metadata": {},
     "output_type": "execute_result"
    }
   ],
   "source": [
    "rdata.isnull().sum()"
   ]
  },
  {
   "cell_type": "code",
   "execution_count": 7,
   "id": "2ad4622f",
   "metadata": {},
   "outputs": [
    {
     "data": {
      "text/plain": [
       "<AxesSubplot:xlabel='member_casual', ylabel='count'>"
      ]
     },
     "execution_count": 7,
     "metadata": {},
     "output_type": "execute_result"
    },
    {
     "data": {
      "image/png": "[encoded data removed]",
      "text/plain": [
       "<Figure size 640x480 with 1 Axes>"
      ]
     },
     "metadata": {},
     "output_type": "display_data"
    }
   ],
   "source": [
    "sns.countplot(x=rdata['member_casual'])"
   ]
  },
  {
   "cell_type": "markdown",
   "id": "7404c95e",
   "metadata": {},
   "source": [
    "<h2> Dropping null values </h2>"
   ]
  },
  {
   "cell_type": "code",
   "execution_count": 8,
   "id": "8505ed46",
   "metadata": {},
   "outputs": [],
   "source": [
    "rdata.dropna(axis=0, inplace = True)"
   ]
  },
  {
   "cell_type": "code",
   "execution_count": 9,
   "id": "40633bc0",
   "metadata": {},
   "outputs": [
    {
     "data": {
      "text/plain": [
       "ride_id               0\n",
       "rideable_type         0\n",
       "started_at            0\n",
       "ended_at              0\n",
       "start_station_name    0\n",
       "start_station_id      0\n",
       "end_station_name      0\n",
       "end_station_id        0\n",
       "start_lat             0\n",
       "start_lng             0\n",
       "end_lat               0\n",
       "end_lng               0\n",
       "member_casual         0\n",
       "dtype: int64"
      ]
     },
     "execution_count": 9,
     "metadata": {},
     "output_type": "execute_result"
    }
   ],
   "source": [
    "rdata.isnull().sum()"
   ]
  },
  {
   "cell_type": "markdown",
   "id": "ac827c3b",
   "metadata": {},
   "source": [
    "<h2>Converting Start and End to datetime dtype</h2>"
   ]
  },
  {
   "cell_type": "code",
   "execution_count": 10,
   "id": "60f7f3ee",
   "metadata": {},
   "outputs": [],
   "source": [
    "rdata['started_at'] = pd.to_datetime(rdata['started_at'], dayfirst = True)\n",
    "rdata['ended_at'] = pd.to_datetime(rdata['ended_at'], dayfirst = True)"
   ]
  },
  {
   "cell_type": "code",
   "execution_count": 11,
   "id": "b150e129",
   "metadata": {},
   "outputs": [
    {
     "name": "stdout",
     "output_type": "stream",
     "text": [
      "<class 'pandas.core.frame.DataFrame'>\n",
      "Int64Index: 255794 entries, 0 to 337734\n",
      "Data columns (total 13 columns):\n",
      " #   Column              Non-Null Count   Dtype         \n",
      "---  ------              --------------   -----         \n",
      " 0   ride_id             255794 non-null  object        \n",
      " 1   rideable_type       255794 non-null  object        \n",
      " 2   started_at          255794 non-null  datetime64[ns]\n",
      " 3   ended_at            255794 non-null  datetime64[ns]\n",
      " 4   start_station_name  255794 non-null  object        \n",
      " 5   start_station_id    255794 non-null  object        \n",
      " 6   end_station_name    255794 non-null  object        \n",
      " 7   end_station_id      255794 non-null  object        \n",
      " 8   start_lat           255794 non-null  float64       \n",
      " 9   start_lng           255794 non-null  float64       \n",
      " 10  end_lat             255794 non-null  float64       \n",
      " 11  end_lng             255794 non-null  float64       \n",
      " 12  member_casual       255794 non-null  object        \n",
      "dtypes: datetime64[ns](2), float64(4), object(7)\n",
      "memory usage: 27.3+ MB\n"
     ]
    }
   ],
   "source": [
    "rdata.info()"
   ]
  },
  {
   "cell_type": "code",
   "execution_count": 12,
   "id": "e9e4fecc",
   "metadata": {},
   "outputs": [
    {
     "data": {
      "text/plain": [
       "0   2022-11-10 06:21:55\n",
       "1   2022-11-04 07:31:55\n",
       "2   2022-11-21 17:20:29\n",
       "3   2022-11-25 17:29:34\n",
       "4   2022-11-29 17:24:25\n",
       "Name: started_at, dtype: datetime64[ns]"
      ]
     },
     "execution_count": 12,
     "metadata": {},
     "output_type": "execute_result"
    }
   ],
   "source": [
    "rdata['started_at'].head()"
   ]
  },
  {
   "cell_type": "markdown",
   "id": "16c8c2e1",
   "metadata": {},
   "source": [
    "<h2> Separate Hour/Day/Month </h2>"
   ]
  },
  {
   "cell_type": "code",
   "execution_count": 13,
   "id": "30167582",
   "metadata": {},
   "outputs": [],
   "source": [
    "rdata['Hour'] = rdata.started_at.apply(lambda x: x.hour)\n",
    "rdata['Day'] = rdata.started_at.apply(lambda x: x.day_name())  \n",
    "rdata['Month'] = rdata.started_at.apply(lambda x: x.month)"
   ]
  },
  {
   "cell_type": "code",
   "execution_count": 14,
   "id": "983b529d",
   "metadata": {},
   "outputs": [
    {
     "data": {
      "text/html": [
       "<div>\n",
       "<style scoped>\n",
       "    .dataframe tbody tr th:only-of-type {\n",
       "        vertical-align: middle;\n",
       "    }\n",
       "\n",
       "    .dataframe tbody tr th {\n",
       "        vertical-align: top;\n",
       "    }\n",
       "\n",
       "    .dataframe thead th {\n",
       "        text-align: right;\n",
       "    }\n",
       "</style>\n",
       "<table border=\"1\" class=\"dataframe\">\n",
       "  <thead>\n",
       "    <tr style=\"text-align: right;\">\n",
       "      <th></th>\n",
       "      <th>ride_id</th>\n",
       "      <th>rideable_type</th>\n",
       "      <th>started_at</th>\n",
       "      <th>ended_at</th>\n",
       "      <th>start_station_name</th>\n",
       "      <th>start_station_id</th>\n",
       "      <th>end_station_name</th>\n",
       "      <th>end_station_id</th>\n",
       "      <th>start_lat</th>\n",
       "      <th>start_lng</th>\n",
       "      <th>end_lat</th>\n",
       "      <th>end_lng</th>\n",
       "      <th>member_casual</th>\n",
       "      <th>Hour</th>\n",
       "      <th>Day</th>\n",
       "      <th>Month</th>\n",
       "    </tr>\n",
       "  </thead>\n",
       "  <tbody>\n",
       "    <tr>\n",
       "      <th>0</th>\n",
       "      <td>BCC66FC6FAB27CC7</td>\n",
       "      <td>electric_bike</td>\n",
       "      <td>2022-11-10 06:21:55</td>\n",
       "      <td>2022-11-10 06:31:27</td>\n",
       "      <td>Canal St &amp; Adams St</td>\n",
       "      <td>13011</td>\n",
       "      <td>St. Clair St &amp; Erie St</td>\n",
       "      <td>13016</td>\n",
       "      <td>41.879401</td>\n",
       "      <td>-87.639848</td>\n",
       "      <td>41.894345</td>\n",
       "      <td>-87.622798</td>\n",
       "      <td>member</td>\n",
       "      <td>6</td>\n",
       "      <td>Thursday</td>\n",
       "      <td>11</td>\n",
       "    </tr>\n",
       "    <tr>\n",
       "      <th>1</th>\n",
       "      <td>772AB67E902C180F</td>\n",
       "      <td>classic_bike</td>\n",
       "      <td>2022-11-04 07:31:55</td>\n",
       "      <td>2022-11-04 07:46:25</td>\n",
       "      <td>Canal St &amp; Adams St</td>\n",
       "      <td>13011</td>\n",
       "      <td>St. Clair St &amp; Erie St</td>\n",
       "      <td>13016</td>\n",
       "      <td>41.879255</td>\n",
       "      <td>-87.639904</td>\n",
       "      <td>41.894345</td>\n",
       "      <td>-87.622798</td>\n",
       "      <td>member</td>\n",
       "      <td>7</td>\n",
       "      <td>Friday</td>\n",
       "      <td>11</td>\n",
       "    </tr>\n",
       "    <tr>\n",
       "      <th>2</th>\n",
       "      <td>585EAD07FDEC0152</td>\n",
       "      <td>classic_bike</td>\n",
       "      <td>2022-11-21 17:20:29</td>\n",
       "      <td>2022-11-21 17:34:36</td>\n",
       "      <td>Indiana Ave &amp; Roosevelt Rd</td>\n",
       "      <td>SL-005</td>\n",
       "      <td>St. Clair St &amp; Erie St</td>\n",
       "      <td>13016</td>\n",
       "      <td>41.867888</td>\n",
       "      <td>-87.623041</td>\n",
       "      <td>41.894345</td>\n",
       "      <td>-87.622798</td>\n",
       "      <td>member</td>\n",
       "      <td>17</td>\n",
       "      <td>Monday</td>\n",
       "      <td>11</td>\n",
       "    </tr>\n",
       "    <tr>\n",
       "      <th>3</th>\n",
       "      <td>91C4E7ED3C262FF9</td>\n",
       "      <td>classic_bike</td>\n",
       "      <td>2022-11-25 17:29:34</td>\n",
       "      <td>2022-11-25 17:45:15</td>\n",
       "      <td>Indiana Ave &amp; Roosevelt Rd</td>\n",
       "      <td>SL-005</td>\n",
       "      <td>St. Clair St &amp; Erie St</td>\n",
       "      <td>13016</td>\n",
       "      <td>41.867888</td>\n",
       "      <td>-87.623041</td>\n",
       "      <td>41.894345</td>\n",
       "      <td>-87.622798</td>\n",
       "      <td>member</td>\n",
       "      <td>17</td>\n",
       "      <td>Friday</td>\n",
       "      <td>11</td>\n",
       "    </tr>\n",
       "    <tr>\n",
       "      <th>4</th>\n",
       "      <td>709206A3104CABC8</td>\n",
       "      <td>classic_bike</td>\n",
       "      <td>2022-11-29 17:24:25</td>\n",
       "      <td>2022-11-29 17:42:51</td>\n",
       "      <td>Indiana Ave &amp; Roosevelt Rd</td>\n",
       "      <td>SL-005</td>\n",
       "      <td>St. Clair St &amp; Erie St</td>\n",
       "      <td>13016</td>\n",
       "      <td>41.867888</td>\n",
       "      <td>-87.623041</td>\n",
       "      <td>41.894345</td>\n",
       "      <td>-87.622798</td>\n",
       "      <td>member</td>\n",
       "      <td>17</td>\n",
       "      <td>Tuesday</td>\n",
       "      <td>11</td>\n",
       "    </tr>\n",
       "  </tbody>\n",
       "</table>\n",
       "</div>"
      ],
      "text/plain": [
       "            ride_id  rideable_type          started_at            ended_at  \\\n",
       "0  BCC66FC6FAB27CC7  electric_bike 2022-11-10 06:21:55 2022-11-10 06:31:27   \n",
       "1  772AB67E902C180F   classic_bike 2022-11-04 07:31:55 2022-11-04 07:46:25   \n",
       "2  585EAD07FDEC0152   classic_bike 2022-11-21 17:20:29 2022-11-21 17:34:36   \n",
       "3  91C4E7ED3C262FF9   classic_bike 2022-11-25 17:29:34 2022-11-25 17:45:15   \n",
       "4  709206A3104CABC8   classic_bike 2022-11-29 17:24:25 2022-11-29 17:42:51   \n",
       "\n",
       "           start_station_name start_station_id        end_station_name  \\\n",
       "0         Canal St & Adams St            13011  St. Clair St & Erie St   \n",
       "1         Canal St & Adams St            13011  St. Clair St & Erie St   \n",
       "2  Indiana Ave & Roosevelt Rd           SL-005  St. Clair St & Erie St   \n",
       "3  Indiana Ave & Roosevelt Rd           SL-005  St. Clair St & Erie St   \n",
       "4  Indiana Ave & Roosevelt Rd           SL-005  St. Clair St & Erie St   \n",
       "\n",
       "  end_station_id  start_lat  start_lng    end_lat    end_lng member_casual  \\\n",
       "0          13016  41.879401 -87.639848  41.894345 -87.622798        member   \n",
       "1          13016  41.879255 -87.639904  41.894345 -87.622798        member   \n",
       "2          13016  41.867888 -87.623041  41.894345 -87.622798        member   \n",
       "3          13016  41.867888 -87.623041  41.894345 -87.622798        member   \n",
       "4          13016  41.867888 -87.623041  41.894345 -87.622798        member   \n",
       "\n",
       "   Hour       Day  Month  \n",
       "0     6  Thursday     11  \n",
       "1     7    Friday     11  \n",
       "2    17    Monday     11  \n",
       "3    17    Friday     11  \n",
       "4    17   Tuesday     11  "
      ]
     },
     "execution_count": 14,
     "metadata": {},
     "output_type": "execute_result"
    }
   ],
   "source": [
    "rdata.head()"
   ]
  },
  {
   "cell_type": "markdown",
   "id": "c99b3da7",
   "metadata": {},
   "source": [
    "<h2> Calculate Ride TIme </h2>"
   ]
  },
  {
   "cell_type": "code",
   "execution_count": 15,
   "id": "b8844455",
   "metadata": {},
   "outputs": [],
   "source": [
    "rdata['Total_Ride_Time'] = (rdata['ended_at'] - rdata['started_at'])"
   ]
  },
  {
   "cell_type": "code",
   "execution_count": 16,
   "id": "28449a0d",
   "metadata": {},
   "outputs": [],
   "source": [
    "rdata['Total_Ride_Time'] = (rdata['Total_Ride_Time'])/timedelta(minutes=1)\n",
    "rdata['Total_Ride_Time'] = rdata['Total_Ride_Time'].round(decimals = 1)"
   ]
  },
  {
   "cell_type": "code",
   "execution_count": 17,
   "id": "0e15ce45",
   "metadata": {},
   "outputs": [
    {
     "data": {
      "text/html": [
       "<div>\n",
       "<style scoped>\n",
       "    .dataframe tbody tr th:only-of-type {\n",
       "        vertical-align: middle;\n",
       "    }\n",
       "\n",
       "    .dataframe tbody tr th {\n",
       "        vertical-align: top;\n",
       "    }\n",
       "\n",
       "    .dataframe thead th {\n",
       "        text-align: right;\n",
       "    }\n",
       "</style>\n",
       "<table border=\"1\" class=\"dataframe\">\n",
       "  <thead>\n",
       "    <tr style=\"text-align: right;\">\n",
       "      <th></th>\n",
       "      <th>ride_id</th>\n",
       "      <th>rideable_type</th>\n",
       "      <th>started_at</th>\n",
       "      <th>ended_at</th>\n",
       "      <th>start_station_name</th>\n",
       "      <th>start_station_id</th>\n",
       "      <th>end_station_name</th>\n",
       "      <th>end_station_id</th>\n",
       "      <th>start_lat</th>\n",
       "      <th>start_lng</th>\n",
       "      <th>end_lat</th>\n",
       "      <th>end_lng</th>\n",
       "      <th>member_casual</th>\n",
       "      <th>Hour</th>\n",
       "      <th>Day</th>\n",
       "      <th>Month</th>\n",
       "      <th>Total_Ride_Time</th>\n",
       "    </tr>\n",
       "  </thead>\n",
       "  <tbody>\n",
       "    <tr>\n",
       "      <th>0</th>\n",
       "      <td>BCC66FC6FAB27CC7</td>\n",
       "      <td>electric_bike</td>\n",
       "      <td>2022-11-10 06:21:55</td>\n",
       "      <td>2022-11-10 06:31:27</td>\n",
       "      <td>Canal St &amp; Adams St</td>\n",
       "      <td>13011</td>\n",
       "      <td>St. Clair St &amp; Erie St</td>\n",
       "      <td>13016</td>\n",
       "      <td>41.879401</td>\n",
       "      <td>-87.639848</td>\n",
       "      <td>41.894345</td>\n",
       "      <td>-87.622798</td>\n",
       "      <td>member</td>\n",
       "      <td>6</td>\n",
       "      <td>Thursday</td>\n",
       "      <td>11</td>\n",
       "      <td>9.5</td>\n",
       "    </tr>\n",
       "    <tr>\n",
       "      <th>1</th>\n",
       "      <td>772AB67E902C180F</td>\n",
       "      <td>classic_bike</td>\n",
       "      <td>2022-11-04 07:31:55</td>\n",
       "      <td>2022-11-04 07:46:25</td>\n",
       "      <td>Canal St &amp; Adams St</td>\n",
       "      <td>13011</td>\n",
       "      <td>St. Clair St &amp; Erie St</td>\n",
       "      <td>13016</td>\n",
       "      <td>41.879255</td>\n",
       "      <td>-87.639904</td>\n",
       "      <td>41.894345</td>\n",
       "      <td>-87.622798</td>\n",
       "      <td>member</td>\n",
       "      <td>7</td>\n",
       "      <td>Friday</td>\n",
       "      <td>11</td>\n",
       "      <td>14.5</td>\n",
       "    </tr>\n",
       "    <tr>\n",
       "      <th>2</th>\n",
       "      <td>585EAD07FDEC0152</td>\n",
       "      <td>classic_bike</td>\n",
       "      <td>2022-11-21 17:20:29</td>\n",
       "      <td>2022-11-21 17:34:36</td>\n",
       "      <td>Indiana Ave &amp; Roosevelt Rd</td>\n",
       "      <td>SL-005</td>\n",
       "      <td>St. Clair St &amp; Erie St</td>\n",
       "      <td>13016</td>\n",
       "      <td>41.867888</td>\n",
       "      <td>-87.623041</td>\n",
       "      <td>41.894345</td>\n",
       "      <td>-87.622798</td>\n",
       "      <td>member</td>\n",
       "      <td>17</td>\n",
       "      <td>Monday</td>\n",
       "      <td>11</td>\n",
       "      <td>14.1</td>\n",
       "    </tr>\n",
       "    <tr>\n",
       "      <th>3</th>\n",
       "      <td>91C4E7ED3C262FF9</td>\n",
       "      <td>classic_bike</td>\n",
       "      <td>2022-11-25 17:29:34</td>\n",
       "      <td>2022-11-25 17:45:15</td>\n",
       "      <td>Indiana Ave &amp; Roosevelt Rd</td>\n",
       "      <td>SL-005</td>\n",
       "      <td>St. Clair St &amp; Erie St</td>\n",
       "      <td>13016</td>\n",
       "      <td>41.867888</td>\n",
       "      <td>-87.623041</td>\n",
       "      <td>41.894345</td>\n",
       "      <td>-87.622798</td>\n",
       "      <td>member</td>\n",
       "      <td>17</td>\n",
       "      <td>Friday</td>\n",
       "      <td>11</td>\n",
       "      <td>15.7</td>\n",
       "    </tr>\n",
       "    <tr>\n",
       "      <th>4</th>\n",
       "      <td>709206A3104CABC8</td>\n",
       "      <td>classic_bike</td>\n",
       "      <td>2022-11-29 17:24:25</td>\n",
       "      <td>2022-11-29 17:42:51</td>\n",
       "      <td>Indiana Ave &amp; Roosevelt Rd</td>\n",
       "      <td>SL-005</td>\n",
       "      <td>St. Clair St &amp; Erie St</td>\n",
       "      <td>13016</td>\n",
       "      <td>41.867888</td>\n",
       "      <td>-87.623041</td>\n",
       "      <td>41.894345</td>\n",
       "      <td>-87.622798</td>\n",
       "      <td>member</td>\n",
       "      <td>17</td>\n",
       "      <td>Tuesday</td>\n",
       "      <td>11</td>\n",
       "      <td>18.4</td>\n",
       "    </tr>\n",
       "  </tbody>\n",
       "</table>\n",
       "</div>"
      ],
      "text/plain": [
       "            ride_id  rideable_type          started_at            ended_at  \\\n",
       "0  BCC66FC6FAB27CC7  electric_bike 2022-11-10 06:21:55 2022-11-10 06:31:27   \n",
       "1  772AB67E902C180F   classic_bike 2022-11-04 07:31:55 2022-11-04 07:46:25   \n",
       "2  585EAD07FDEC0152   classic_bike 2022-11-21 17:20:29 2022-11-21 17:34:36   \n",
       "3  91C4E7ED3C262FF9   classic_bike 2022-11-25 17:29:34 2022-11-25 17:45:15   \n",
       "4  709206A3104CABC8   classic_bike 2022-11-29 17:24:25 2022-11-29 17:42:51   \n",
       "\n",
       "           start_station_name start_station_id        end_station_name  \\\n",
       "0         Canal St & Adams St            13011  St. Clair St & Erie St   \n",
       "1         Canal St & Adams St            13011  St. Clair St & Erie St   \n",
       "2  Indiana Ave & Roosevelt Rd           SL-005  St. Clair St & Erie St   \n",
       "3  Indiana Ave & Roosevelt Rd           SL-005  St. Clair St & Erie St   \n",
       "4  Indiana Ave & Roosevelt Rd           SL-005  St. Clair St & Erie St   \n",
       "\n",
       "  end_station_id  start_lat  start_lng    end_lat    end_lng member_casual  \\\n",
       "0          13016  41.879401 -87.639848  41.894345 -87.622798        member   \n",
       "1          13016  41.879255 -87.639904  41.894345 -87.622798        member   \n",
       "2          13016  41.867888 -87.623041  41.894345 -87.622798        member   \n",
       "3          13016  41.867888 -87.623041  41.894345 -87.622798        member   \n",
       "4          13016  41.867888 -87.623041  41.894345 -87.622798        member   \n",
       "\n",
       "   Hour       Day  Month  Total_Ride_Time  \n",
       "0     6  Thursday     11              9.5  \n",
       "1     7    Friday     11             14.5  \n",
       "2    17    Monday     11             14.1  \n",
       "3    17    Friday     11             15.7  \n",
       "4    17   Tuesday     11             18.4  "
      ]
     },
     "execution_count": 17,
     "metadata": {},
     "output_type": "execute_result"
    }
   ],
   "source": [
    "rdata.head()"
   ]
  },
  {
   "cell_type": "markdown",
   "id": "504fbf23",
   "metadata": {},
   "source": [
    "<h2> Calculate Distance Traveled </h2>"
   ]
  },
  {
   "cell_type": "code",
   "execution_count": 18,
   "id": "59e9bd62",
   "metadata": {},
   "outputs": [],
   "source": [
    "rdata['Lat'] = (rdata['end_lat'] - rdata['start_lat'])\n",
    "rdata['Lng'] = (rdata['end_lng']) - rdata['start_lng']"
   ]
  },
  {
   "cell_type": "code",
   "execution_count": 19,
   "id": "f0a29dc3",
   "metadata": {},
   "outputs": [],
   "source": [
    "rdata['Distance'] = np.sqrt((rdata['Lat']** 2) + (rdata['Lng'] ** 2))"
   ]
  },
  {
   "cell_type": "code",
   "execution_count": 20,
   "id": "41e66840",
   "metadata": {},
   "outputs": [],
   "source": [
    "rdata['Distance'] = rdata['Distance'] * 111"
   ]
  },
  {
   "cell_type": "code",
   "execution_count": 21,
   "id": "5dd3a5c7",
   "metadata": {},
   "outputs": [
    {
     "data": {
      "text/plain": [
       "0    2.516559\n",
       "1    2.531954\n",
       "2    2.936866\n",
       "3    2.936866\n",
       "4    2.936866\n",
       "Name: Distance, dtype: float64"
      ]
     },
     "execution_count": 21,
     "metadata": {},
     "output_type": "execute_result"
    }
   ],
   "source": [
    "rdata['Distance'].head()"
   ]
  },
  {
   "cell_type": "code",
   "execution_count": 22,
   "id": "1aec2c5d",
   "metadata": {},
   "outputs": [
    {
     "data": {
      "text/html": [
       "<div>\n",
       "<style scoped>\n",
       "    .dataframe tbody tr th:only-of-type {\n",
       "        vertical-align: middle;\n",
       "    }\n",
       "\n",
       "    .dataframe tbody tr th {\n",
       "        vertical-align: top;\n",
       "    }\n",
       "\n",
       "    .dataframe thead th {\n",
       "        text-align: right;\n",
       "    }\n",
       "</style>\n",
       "<table border=\"1\" class=\"dataframe\">\n",
       "  <thead>\n",
       "    <tr style=\"text-align: right;\">\n",
       "      <th></th>\n",
       "      <th>ride_id</th>\n",
       "      <th>rideable_type</th>\n",
       "      <th>started_at</th>\n",
       "      <th>ended_at</th>\n",
       "      <th>start_station_name</th>\n",
       "      <th>start_station_id</th>\n",
       "      <th>end_station_name</th>\n",
       "      <th>end_station_id</th>\n",
       "      <th>start_lat</th>\n",
       "      <th>start_lng</th>\n",
       "      <th>end_lat</th>\n",
       "      <th>end_lng</th>\n",
       "      <th>member_casual</th>\n",
       "      <th>Hour</th>\n",
       "      <th>Day</th>\n",
       "      <th>Month</th>\n",
       "      <th>Total_Ride_Time</th>\n",
       "      <th>Lat</th>\n",
       "      <th>Lng</th>\n",
       "      <th>Distance</th>\n",
       "    </tr>\n",
       "  </thead>\n",
       "  <tbody>\n",
       "    <tr>\n",
       "      <th>0</th>\n",
       "      <td>BCC66FC6FAB27CC7</td>\n",
       "      <td>electric_bike</td>\n",
       "      <td>2022-11-10 06:21:55</td>\n",
       "      <td>2022-11-10 06:31:27</td>\n",
       "      <td>Canal St &amp; Adams St</td>\n",
       "      <td>13011</td>\n",
       "      <td>St. Clair St &amp; Erie St</td>\n",
       "      <td>13016</td>\n",
       "      <td>41.879401</td>\n",
       "      <td>-87.639848</td>\n",
       "      <td>41.894345</td>\n",
       "      <td>-87.622798</td>\n",
       "      <td>member</td>\n",
       "      <td>6</td>\n",
       "      <td>Thursday</td>\n",
       "      <td>11</td>\n",
       "      <td>9.5</td>\n",
       "      <td>0.014944</td>\n",
       "      <td>0.017049</td>\n",
       "      <td>2.516559</td>\n",
       "    </tr>\n",
       "    <tr>\n",
       "      <th>1</th>\n",
       "      <td>772AB67E902C180F</td>\n",
       "      <td>classic_bike</td>\n",
       "      <td>2022-11-04 07:31:55</td>\n",
       "      <td>2022-11-04 07:46:25</td>\n",
       "      <td>Canal St &amp; Adams St</td>\n",
       "      <td>13011</td>\n",
       "      <td>St. Clair St &amp; Erie St</td>\n",
       "      <td>13016</td>\n",
       "      <td>41.879255</td>\n",
       "      <td>-87.639904</td>\n",
       "      <td>41.894345</td>\n",
       "      <td>-87.622798</td>\n",
       "      <td>member</td>\n",
       "      <td>7</td>\n",
       "      <td>Friday</td>\n",
       "      <td>11</td>\n",
       "      <td>14.5</td>\n",
       "      <td>0.015090</td>\n",
       "      <td>0.017106</td>\n",
       "      <td>2.531954</td>\n",
       "    </tr>\n",
       "    <tr>\n",
       "      <th>2</th>\n",
       "      <td>585EAD07FDEC0152</td>\n",
       "      <td>classic_bike</td>\n",
       "      <td>2022-11-21 17:20:29</td>\n",
       "      <td>2022-11-21 17:34:36</td>\n",
       "      <td>Indiana Ave &amp; Roosevelt Rd</td>\n",
       "      <td>SL-005</td>\n",
       "      <td>St. Clair St &amp; Erie St</td>\n",
       "      <td>13016</td>\n",
       "      <td>41.867888</td>\n",
       "      <td>-87.623041</td>\n",
       "      <td>41.894345</td>\n",
       "      <td>-87.622798</td>\n",
       "      <td>member</td>\n",
       "      <td>17</td>\n",
       "      <td>Monday</td>\n",
       "      <td>11</td>\n",
       "      <td>14.1</td>\n",
       "      <td>0.026457</td>\n",
       "      <td>0.000243</td>\n",
       "      <td>2.936866</td>\n",
       "    </tr>\n",
       "    <tr>\n",
       "      <th>3</th>\n",
       "      <td>91C4E7ED3C262FF9</td>\n",
       "      <td>classic_bike</td>\n",
       "      <td>2022-11-25 17:29:34</td>\n",
       "      <td>2022-11-25 17:45:15</td>\n",
       "      <td>Indiana Ave &amp; Roosevelt Rd</td>\n",
       "      <td>SL-005</td>\n",
       "      <td>St. Clair St &amp; Erie St</td>\n",
       "      <td>13016</td>\n",
       "      <td>41.867888</td>\n",
       "      <td>-87.623041</td>\n",
       "      <td>41.894345</td>\n",
       "      <td>-87.622798</td>\n",
       "      <td>member</td>\n",
       "      <td>17</td>\n",
       "      <td>Friday</td>\n",
       "      <td>11</td>\n",
       "      <td>15.7</td>\n",
       "      <td>0.026457</td>\n",
       "      <td>0.000243</td>\n",
       "      <td>2.936866</td>\n",
       "    </tr>\n",
       "    <tr>\n",
       "      <th>4</th>\n",
       "      <td>709206A3104CABC8</td>\n",
       "      <td>classic_bike</td>\n",
       "      <td>2022-11-29 17:24:25</td>\n",
       "      <td>2022-11-29 17:42:51</td>\n",
       "      <td>Indiana Ave &amp; Roosevelt Rd</td>\n",
       "      <td>SL-005</td>\n",
       "      <td>St. Clair St &amp; Erie St</td>\n",
       "      <td>13016</td>\n",
       "      <td>41.867888</td>\n",
       "      <td>-87.623041</td>\n",
       "      <td>41.894345</td>\n",
       "      <td>-87.622798</td>\n",
       "      <td>member</td>\n",
       "      <td>17</td>\n",
       "      <td>Tuesday</td>\n",
       "      <td>11</td>\n",
       "      <td>18.4</td>\n",
       "      <td>0.026457</td>\n",
       "      <td>0.000243</td>\n",
       "      <td>2.936866</td>\n",
       "    </tr>\n",
       "  </tbody>\n",
       "</table>\n",
       "</div>"
      ],
      "text/plain": [
       "            ride_id  rideable_type          started_at            ended_at  \\\n",
       "0  BCC66FC6FAB27CC7  electric_bike 2022-11-10 06:21:55 2022-11-10 06:31:27   \n",
       "1  772AB67E902C180F   classic_bike 2022-11-04 07:31:55 2022-11-04 07:46:25   \n",
       "2  585EAD07FDEC0152   classic_bike 2022-11-21 17:20:29 2022-11-21 17:34:36   \n",
       "3  91C4E7ED3C262FF9   classic_bike 2022-11-25 17:29:34 2022-11-25 17:45:15   \n",
       "4  709206A3104CABC8   classic_bike 2022-11-29 17:24:25 2022-11-29 17:42:51   \n",
       "\n",
       "           start_station_name start_station_id        end_station_name  \\\n",
       "0         Canal St & Adams St            13011  St. Clair St & Erie St   \n",
       "1         Canal St & Adams St            13011  St. Clair St & Erie St   \n",
       "2  Indiana Ave & Roosevelt Rd           SL-005  St. Clair St & Erie St   \n",
       "3  Indiana Ave & Roosevelt Rd           SL-005  St. Clair St & Erie St   \n",
       "4  Indiana Ave & Roosevelt Rd           SL-005  St. Clair St & Erie St   \n",
       "\n",
       "  end_station_id  start_lat  start_lng    end_lat    end_lng member_casual  \\\n",
       "0          13016  41.879401 -87.639848  41.894345 -87.622798        member   \n",
       "1          13016  41.879255 -87.639904  41.894345 -87.622798        member   \n",
       "2          13016  41.867888 -87.623041  41.894345 -87.622798        member   \n",
       "3          13016  41.867888 -87.623041  41.894345 -87.622798        member   \n",
       "4          13016  41.867888 -87.623041  41.894345 -87.622798        member   \n",
       "\n",
       "   Hour       Day  Month  Total_Ride_Time       Lat       Lng  Distance  \n",
       "0     6  Thursday     11              9.5  0.014944  0.017049  2.516559  \n",
       "1     7    Friday     11             14.5  0.015090  0.017106  2.531954  \n",
       "2    17    Monday     11             14.1  0.026457  0.000243  2.936866  \n",
       "3    17    Friday     11             15.7  0.026457  0.000243  2.936866  \n",
       "4    17   Tuesday     11             18.4  0.026457  0.000243  2.936866  "
      ]
     },
     "execution_count": 22,
     "metadata": {},
     "output_type": "execute_result"
    }
   ],
   "source": [
    "rdata.head()"
   ]
  },
  {
   "cell_type": "code",
   "execution_count": 23,
   "id": "c9885480",
   "metadata": {},
   "outputs": [],
   "source": [
    "rdata['Distance'] = rdata['Distance'].round(decimals = 2)"
   ]
  },
  {
   "cell_type": "code",
   "execution_count": 24,
   "id": "578b3f00",
   "metadata": {},
   "outputs": [
    {
     "data": {
      "text/html": [
       "<div>\n",
       "<style scoped>\n",
       "    .dataframe tbody tr th:only-of-type {\n",
       "        vertical-align: middle;\n",
       "    }\n",
       "\n",
       "    .dataframe tbody tr th {\n",
       "        vertical-align: top;\n",
       "    }\n",
       "\n",
       "    .dataframe thead th {\n",
       "        text-align: right;\n",
       "    }\n",
       "</style>\n",
       "<table border=\"1\" class=\"dataframe\">\n",
       "  <thead>\n",
       "    <tr style=\"text-align: right;\">\n",
       "      <th></th>\n",
       "      <th>ride_id</th>\n",
       "      <th>rideable_type</th>\n",
       "      <th>started_at</th>\n",
       "      <th>ended_at</th>\n",
       "      <th>start_station_name</th>\n",
       "      <th>start_station_id</th>\n",
       "      <th>end_station_name</th>\n",
       "      <th>end_station_id</th>\n",
       "      <th>start_lat</th>\n",
       "      <th>start_lng</th>\n",
       "      <th>end_lat</th>\n",
       "      <th>end_lng</th>\n",
       "      <th>member_casual</th>\n",
       "      <th>Hour</th>\n",
       "      <th>Day</th>\n",
       "      <th>Month</th>\n",
       "      <th>Total_Ride_Time</th>\n",
       "      <th>Lat</th>\n",
       "      <th>Lng</th>\n",
       "      <th>Distance</th>\n",
       "    </tr>\n",
       "  </thead>\n",
       "  <tbody>\n",
       "    <tr>\n",
       "      <th>0</th>\n",
       "      <td>BCC66FC6FAB27CC7</td>\n",
       "      <td>electric_bike</td>\n",
       "      <td>2022-11-10 06:21:55</td>\n",
       "      <td>2022-11-10 06:31:27</td>\n",
       "      <td>Canal St &amp; Adams St</td>\n",
       "      <td>13011</td>\n",
       "      <td>St. Clair St &amp; Erie St</td>\n",
       "      <td>13016</td>\n",
       "      <td>41.879401</td>\n",
       "      <td>-87.639848</td>\n",
       "      <td>41.894345</td>\n",
       "      <td>-87.622798</td>\n",
       "      <td>member</td>\n",
       "      <td>6</td>\n",
       "      <td>Thursday</td>\n",
       "      <td>11</td>\n",
       "      <td>9.5</td>\n",
       "      <td>0.014944</td>\n",
       "      <td>0.017049</td>\n",
       "      <td>2.52</td>\n",
       "    </tr>\n",
       "    <tr>\n",
       "      <th>1</th>\n",
       "      <td>772AB67E902C180F</td>\n",
       "      <td>classic_bike</td>\n",
       "      <td>2022-11-04 07:31:55</td>\n",
       "      <td>2022-11-04 07:46:25</td>\n",
       "      <td>Canal St &amp; Adams St</td>\n",
       "      <td>13011</td>\n",
       "      <td>St. Clair St &amp; Erie St</td>\n",
       "      <td>13016</td>\n",
       "      <td>41.879255</td>\n",
       "      <td>-87.639904</td>\n",
       "      <td>41.894345</td>\n",
       "      <td>-87.622798</td>\n",
       "      <td>member</td>\n",
       "      <td>7</td>\n",
       "      <td>Friday</td>\n",
       "      <td>11</td>\n",
       "      <td>14.5</td>\n",
       "      <td>0.015090</td>\n",
       "      <td>0.017106</td>\n",
       "      <td>2.53</td>\n",
       "    </tr>\n",
       "    <tr>\n",
       "      <th>2</th>\n",
       "      <td>585EAD07FDEC0152</td>\n",
       "      <td>classic_bike</td>\n",
       "      <td>2022-11-21 17:20:29</td>\n",
       "      <td>2022-11-21 17:34:36</td>\n",
       "      <td>Indiana Ave &amp; Roosevelt Rd</td>\n",
       "      <td>SL-005</td>\n",
       "      <td>St. Clair St &amp; Erie St</td>\n",
       "      <td>13016</td>\n",
       "      <td>41.867888</td>\n",
       "      <td>-87.623041</td>\n",
       "      <td>41.894345</td>\n",
       "      <td>-87.622798</td>\n",
       "      <td>member</td>\n",
       "      <td>17</td>\n",
       "      <td>Monday</td>\n",
       "      <td>11</td>\n",
       "      <td>14.1</td>\n",
       "      <td>0.026457</td>\n",
       "      <td>0.000243</td>\n",
       "      <td>2.94</td>\n",
       "    </tr>\n",
       "    <tr>\n",
       "      <th>3</th>\n",
       "      <td>91C4E7ED3C262FF9</td>\n",
       "      <td>classic_bike</td>\n",
       "      <td>2022-11-25 17:29:34</td>\n",
       "      <td>2022-11-25 17:45:15</td>\n",
       "      <td>Indiana Ave &amp; Roosevelt Rd</td>\n",
       "      <td>SL-005</td>\n",
       "      <td>St. Clair St &amp; Erie St</td>\n",
       "      <td>13016</td>\n",
       "      <td>41.867888</td>\n",
       "      <td>-87.623041</td>\n",
       "      <td>41.894345</td>\n",
       "      <td>-87.622798</td>\n",
       "      <td>member</td>\n",
       "      <td>17</td>\n",
       "      <td>Friday</td>\n",
       "      <td>11</td>\n",
       "      <td>15.7</td>\n",
       "      <td>0.026457</td>\n",
       "      <td>0.000243</td>\n",
       "      <td>2.94</td>\n",
       "    </tr>\n",
       "    <tr>\n",
       "      <th>4</th>\n",
       "      <td>709206A3104CABC8</td>\n",
       "      <td>classic_bike</td>\n",
       "      <td>2022-11-29 17:24:25</td>\n",
       "      <td>2022-11-29 17:42:51</td>\n",
       "      <td>Indiana Ave &amp; Roosevelt Rd</td>\n",
       "      <td>SL-005</td>\n",
       "      <td>St. Clair St &amp; Erie St</td>\n",
       "      <td>13016</td>\n",
       "      <td>41.867888</td>\n",
       "      <td>-87.623041</td>\n",
       "      <td>41.894345</td>\n",
       "      <td>-87.622798</td>\n",
       "      <td>member</td>\n",
       "      <td>17</td>\n",
       "      <td>Tuesday</td>\n",
       "      <td>11</td>\n",
       "      <td>18.4</td>\n",
       "      <td>0.026457</td>\n",
       "      <td>0.000243</td>\n",
       "      <td>2.94</td>\n",
       "    </tr>\n",
       "  </tbody>\n",
       "</table>\n",
       "</div>"
      ],
      "text/plain": [
       "            ride_id  rideable_type          started_at            ended_at  \\\n",
       "0  BCC66FC6FAB27CC7  electric_bike 2022-11-10 06:21:55 2022-11-10 06:31:27   \n",
       "1  772AB67E902C180F   classic_bike 2022-11-04 07:31:55 2022-11-04 07:46:25   \n",
       "2  585EAD07FDEC0152   classic_bike 2022-11-21 17:20:29 2022-11-21 17:34:36   \n",
       "3  91C4E7ED3C262FF9   classic_bike 2022-11-25 17:29:34 2022-11-25 17:45:15   \n",
       "4  709206A3104CABC8   classic_bike 2022-11-29 17:24:25 2022-11-29 17:42:51   \n",
       "\n",
       "           start_station_name start_station_id        end_station_name  \\\n",
       "0         Canal St & Adams St            13011  St. Clair St & Erie St   \n",
       "1         Canal St & Adams St            13011  St. Clair St & Erie St   \n",
       "2  Indiana Ave & Roosevelt Rd           SL-005  St. Clair St & Erie St   \n",
       "3  Indiana Ave & Roosevelt Rd           SL-005  St. Clair St & Erie St   \n",
       "4  Indiana Ave & Roosevelt Rd           SL-005  St. Clair St & Erie St   \n",
       "\n",
       "  end_station_id  start_lat  start_lng    end_lat    end_lng member_casual  \\\n",
       "0          13016  41.879401 -87.639848  41.894345 -87.622798        member   \n",
       "1          13016  41.879255 -87.639904  41.894345 -87.622798        member   \n",
       "2          13016  41.867888 -87.623041  41.894345 -87.622798        member   \n",
       "3          13016  41.867888 -87.623041  41.894345 -87.622798        member   \n",
       "4          13016  41.867888 -87.623041  41.894345 -87.622798        member   \n",
       "\n",
       "   Hour       Day  Month  Total_Ride_Time       Lat       Lng  Distance  \n",
       "0     6  Thursday     11              9.5  0.014944  0.017049      2.52  \n",
       "1     7    Friday     11             14.5  0.015090  0.017106      2.53  \n",
       "2    17    Monday     11             14.1  0.026457  0.000243      2.94  \n",
       "3    17    Friday     11             15.7  0.026457  0.000243      2.94  \n",
       "4    17   Tuesday     11             18.4  0.026457  0.000243      2.94  "
      ]
     },
     "execution_count": 24,
     "metadata": {},
     "output_type": "execute_result"
    }
   ],
   "source": [
    "rdata.head()"
   ]
  },
  {
   "cell_type": "code",
   "execution_count": 25,
   "id": "a03bc450",
   "metadata": {},
   "outputs": [],
   "source": [
    "month = {1:'January', 2:'February', 3:'March', 4:'April', 5:'May', 6:'June', 7:'July', 8:'August', 9:'September', 10:'October', 11:'November', 12:'December'}"
   ]
  },
  {
   "cell_type": "code",
   "execution_count": 26,
   "id": "f4353715",
   "metadata": {},
   "outputs": [],
   "source": [
    "rdata['Month_Name'] = rdata['Month'].map(month)"
   ]
  },
  {
   "cell_type": "code",
   "execution_count": 27,
   "id": "1e914881",
   "metadata": {},
   "outputs": [
    {
     "data": {
      "text/plain": [
       "0    November\n",
       "1    November\n",
       "2    November\n",
       "3    November\n",
       "4    November\n",
       "Name: Month_Name, dtype: object"
      ]
     },
     "execution_count": 27,
     "metadata": {},
     "output_type": "execute_result"
    }
   ],
   "source": [
    "rdata['Month_Name'].head()"
   ]
  },
  {
   "cell_type": "code",
   "execution_count": 28,
   "id": "39037f54",
   "metadata": {},
   "outputs": [
    {
     "data": {
      "text/plain": [
       "<AxesSubplot:xlabel='member_casual', ylabel='Distance'>"
      ]
     },
     "execution_count": 28,
     "metadata": {},
     "output_type": "execute_result"
    },
    {
     "data": {
      "image/png": "[encoded data removed]",
      "text/plain": [
       "<Figure size 800x600 with 1 Axes>"
      ]
     },
     "metadata": {},
     "output_type": "display_data"
    }
   ],
   "source": [
    "plt.figure(figsize=(8,6))\n",
    "sns.barplot(x='member_casual', y='Distance', data=rdata, palette='viridis')"
   ]
  },
  {
   "cell_type": "code",
   "execution_count": 29,
   "id": "87ea9fe8",
   "metadata": {},
   "outputs": [
    {
     "data": {
      "text/plain": [
       "<AxesSubplot:xlabel='member_casual', ylabel='Total_Ride_Time'>"
      ]
     },
     "execution_count": 29,
     "metadata": {},
     "output_type": "execute_result"
    },
    {
     "data": {
      "image/png": "[encoded data removed]",
      "text/plain": [
       "<Figure size 800x600 with 1 Axes>"
      ]
     },
     "metadata": {},
     "output_type": "display_data"
    }
   ],
   "source": [
    "plt.figure(figsize=(8,6))\n",
    "sns.barplot(x='member_casual', y='Total_Ride_Time', data=rdata, palette='viridis')"
   ]
  },
  {
   "cell_type": "markdown",
   "id": "e8cc6f87",
   "metadata": {},
   "source": [
    "<h3>Members have shorter rides based on duration but travel further distances</h3>"
   ]
  },
  {
   "cell_type": "code",
   "execution_count": 30,
   "id": "f704820a",
   "metadata": {
    "scrolled": false
   },
   "outputs": [
    {
     "data": {
      "image/png": "[encoded data removed]",
      "text/plain": [
       "<Figure size 1200x600 with 1 Axes>"
      ]
     },
     "metadata": {},
     "output_type": "display_data"
    }
   ],
   "source": [
    "plt.figure(figsize=(12,6))\n",
    "sns.countplot(x='Hour', hue='member_casual', data=rdata, palette='Set1')\n",
    "plt.tight_layout()"
   ]
  },
  {
   "cell_type": "markdown",
   "id": "fff45be9",
   "metadata": {},
   "source": [
    "<h3>Afternoon more popular for riding, most likely due to work.</h3>"
   ]
  },
  {
   "cell_type": "code",
   "execution_count": 31,
   "id": "52f2367f",
   "metadata": {},
   "outputs": [
    {
     "data": {
      "image/png": "[encoded data removed]",
      "text/plain": [
       "<Figure size 1000x600 with 1 Axes>"
      ]
     },
     "metadata": {},
     "output_type": "display_data"
    }
   ],
   "source": [
    "plt.figure(figsize=(10,6))\n",
    "order = [\"Monday\", \"Tuesday\", \"Wednesday\", \"Thursday\", \"Friday\", \"Saturday\", \"Sunday\"]\n",
    "sns.countplot(x='Day', hue='member_casual', data=rdata, palette='viridis', order=order)\n",
    "plt.tight_layout()"
   ]
  },
  {
   "cell_type": "markdown",
   "id": "fb6985bd",
   "metadata": {},
   "source": [
    "<h3>Members consistantly riding throughout the week and slowing down on weekends, casuals seem pretty consistent.</h3>"
   ]
  },
  {
   "cell_type": "code",
   "execution_count": null,
   "id": "171bea0a",
   "metadata": {},
   "outputs": [],
   "source": []
  }
 ],
 "metadata": {
  "kernelspec": {
   "display_name": "Python 3 (ipykernel)",
   "language": "python",
   "name": "python3"
  },
  "language_info": {
   "codemirror_mode": {
    "name": "ipython",
    "version": 3
   },
   "file_extension": ".py",
   "mimetype": "text/x-python",
   "name": "python",
   "nbconvert_exporter": "python",
   "pygments_lexer": "ipython3",
   "version": "3.8.13"
  }
 },
 "nbformat": 4,
 "nbformat_minor": 5
}
